{
 "cells": [
  {
   "cell_type": "code",
   "execution_count": 2,
   "id": "9780fbbd",
   "metadata": {},
   "outputs": [
    {
     "name": "stdout",
     "output_type": "stream",
     "text": [
      "<sha256 HASH object @ 0x7fe02cd05dd0>\n",
      "431359146674410236714672241392314090778194310760649159697657763987456\n",
      "temp hash\n",
      "0x000000003ef809ab31c2339e3938349437161a40eb9d19162b0185bc5be78d2f814d65eb004b8fca9fa7873263ddfb0b0f3101be84ebb5f847ac6f9aaf2a17ebf\n",
      "target\n",
      "431359146674410236714672241392314090778194310760649159697657763987456\n",
      "nonce\n",
      "70753223\n"
     ]
    }
   ],
   "source": [
    "#1-4\n",
    "import hashlib\n",
    "m = hashlib.sha256()\n",
    "print(m)\n",
    "target = pow(2, 228)\n",
    "previous = '00000003ef809ab31c2339e3938349437161a40eb9d19162b0185bc5be78d2f8'\n",
    "transaction = '14d65eb004b8fca9fa7873263ddfb0b0f3101be84ebb5f847ac6f9aaf2a17ebf'\n",
    "print(target)\n",
    "\n",
    "def nonce():\n",
    "    i = 0\n",
    "    nonce = 0\n",
    "    #take nonce \n",
    "    #have to check every single nonce to know which one is right to go at the beginning of the hash\n",
    "    #only way to break out of while loop when the number you have is LESS THAN the target\n",
    "    pt = previous + transaction\n",
    "    temp_hash = str(hex(0)) + pt\n",
    "    #print(temp_hash)\n",
    "    #print(int(temp_hash, 16))\n",
    "    #print(int(target, 16))\n",
    "    print('temp hash')\n",
    "    print(temp_hash)\n",
    "    print('target')\n",
    "    print(target)\n",
    "    while True:\n",
    "        temp_hash = hex(i) + pt\n",
    "        in_bytes = str.encode(temp_hash)\n",
    "        final = hashlib.sha256(in_bytes).hexdigest()\n",
    "        if int(final, 16) < target:\n",
    "            break\n",
    "        \n",
    "        nonce = i\n",
    "        i += 1\n",
    "    print('nonce')\n",
    "    return nonce\n",
    "\n",
    "print(nonce())"
   ]
  },
  {
   "cell_type": "code",
   "execution_count": 7,
   "id": "8c7b4428",
   "metadata": {},
   "outputs": [
    {
     "ename": "IndexError",
     "evalue": "tuple index out of range",
     "output_type": "error",
     "traceback": [
      "\u001b[0;31m---------------------------------------------------------------------------\u001b[0m",
      "\u001b[0;31mIndexError\u001b[0m                                Traceback (most recent call last)",
      "Input \u001b[0;32mIn [7]\u001b[0m, in \u001b[0;36m<cell line: 12>\u001b[0;34m()\u001b[0m\n\u001b[1;32m      9\u001b[0m     \u001b[38;5;28mprint\u001b[39m(end \u001b[38;5;241m-\u001b[39m begin)\n\u001b[1;32m     10\u001b[0m     \u001b[38;5;28;01mreturn\u001b[39;00m energy\n\u001b[0;32m---> 12\u001b[0m \u001b[38;5;28mprint\u001b[39m(\u001b[43menergy_usage\u001b[49m\u001b[43m(\u001b[49m\u001b[43m)\u001b[49m)\n",
      "Input \u001b[0;32mIn [7]\u001b[0m, in \u001b[0;36menergy_usage\u001b[0;34m()\u001b[0m\n\u001b[1;32m      4\u001b[0m \u001b[38;5;28;01mdef\u001b[39;00m \u001b[38;5;21menergy_usage\u001b[39m():\n\u001b[1;32m      5\u001b[0m     begin \u001b[38;5;241m=\u001b[39m time\u001b[38;5;241m.\u001b[39mperf_counter()\n\u001b[0;32m----> 6\u001b[0m     energy \u001b[38;5;241m=\u001b[39m \u001b[43menergyusage\u001b[49m\u001b[38;5;241;43m.\u001b[39;49m\u001b[43mevaluate\u001b[49m\u001b[43m(\u001b[49m\u001b[43mnonce\u001b[49m\u001b[43m,\u001b[49m\u001b[43m \u001b[49m\u001b[43mpdf\u001b[49m\u001b[38;5;241;43m=\u001b[39;49m\u001b[38;5;28;43;01mTrue\u001b[39;49;00m\u001b[43m)\u001b[49m\n\u001b[1;32m      7\u001b[0m     end \u001b[38;5;241m=\u001b[39m time\u001b[38;5;241m.\u001b[39mperf_counter()\n\u001b[1;32m      8\u001b[0m     \u001b[38;5;28mprint\u001b[39m(\u001b[38;5;124m'\u001b[39m\u001b[38;5;124mtime taken\u001b[39m\u001b[38;5;124m'\u001b[39m)\n",
      "File \u001b[0;32m/Library/Frameworks/Python.framework/Versions/3.8/lib/python3.8/site-packages/energyusage/evaluate.py:338\u001b[0m, in \u001b[0;36mevaluate\u001b[0;34m(user_func, pdf, powerLoss, energyOutput, locations, year, printToScreen, *args)\u001b[0m\n\u001b[1;32m    335\u001b[0m         \u001b[38;5;28;01mreturn\u001b[39;00m return_value\n\u001b[1;32m    337\u001b[0m \u001b[38;5;28;01melse\u001b[39;00m:\n\u001b[0;32m--> 338\u001b[0m     \u001b[43mutils\u001b[49m\u001b[38;5;241;43m.\u001b[39;49m\u001b[43mlog\u001b[49m\u001b[43m(\u001b[49m\u001b[38;5;124;43m\"\u001b[39;49m\u001b[38;5;124;43mThe energy-usage package only works on Linux kernels \u001b[39;49m\u001b[38;5;124;43m\"\u001b[39;49m\n\u001b[1;32m    339\u001b[0m \u001b[43m    \u001b[49m\u001b[38;5;124;43m\"\u001b[39;49m\u001b[38;5;124;43mwith Intel processors that support the RAPL interface and/or machines with\u001b[39;49m\u001b[38;5;124;43m\"\u001b[39;49m\n\u001b[1;32m    340\u001b[0m \u001b[43m    \u001b[49m\u001b[38;5;124;43m\"\u001b[39;49m\u001b[38;5;124;43m an Nvidia GPU. Please try again on a different machine.\u001b[39;49m\u001b[38;5;124;43m\"\u001b[39;49m\u001b[43m)\u001b[49m\n",
      "File \u001b[0;32m/Library/Frameworks/Python.framework/Versions/3.8/lib/python3.8/site-packages/energyusage/utils.py:203\u001b[0m, in \u001b[0;36mlog\u001b[0;34m(*args)\u001b[0m\n\u001b[1;32m    201\u001b[0m \u001b[38;5;28;01mdef\u001b[39;00m \u001b[38;5;21mlog\u001b[39m(\u001b[38;5;241m*\u001b[39margs):\n\u001b[1;32m    202\u001b[0m     \u001b[38;5;28;01mif\u001b[39;00m (re\u001b[38;5;241m.\u001b[39msearch(\u001b[38;5;124m\"\u001b[39m\u001b[38;5;124mPackage|CPU.*|GPU|DRAM\u001b[39m\u001b[38;5;124m\"\u001b[39m, args[\u001b[38;5;241m0\u001b[39m])):\n\u001b[0;32m--> 203\u001b[0m         measurement \u001b[38;5;241m=\u001b[39m \u001b[43margs\u001b[49m\u001b[43m[\u001b[49m\u001b[38;5;241;43m1\u001b[39;49m\u001b[43m]\u001b[49m\n\u001b[1;32m    204\u001b[0m         sys\u001b[38;5;241m.\u001b[39mstdout\u001b[38;5;241m.\u001b[39mwrite(\u001b[38;5;124m\"\u001b[39m\u001b[38;5;130;01m\\r\u001b[39;00m\u001b[38;5;132;01m{:<24}\u001b[39;00m\u001b[38;5;124m \u001b[39m\u001b[38;5;132;01m{:>49.2f}\u001b[39;00m\u001b[38;5;124m \u001b[39m\u001b[38;5;132;01m{:5<}\u001b[39;00m\u001b[38;5;124m\"\u001b[39m\u001b[38;5;241m.\u001b[39mformat(args[\u001b[38;5;241m0\u001b[39m]\u001b[38;5;241m+\u001b[39m\u001b[38;5;124m\"\u001b[39m\u001b[38;5;124m:\u001b[39m\u001b[38;5;124m\"\u001b[39m, measurement, \u001b[38;5;124m\"\u001b[39m\u001b[38;5;124mwatts\u001b[39m\u001b[38;5;124m\"\u001b[39m))\n\u001b[1;32m    206\u001b[0m     \u001b[38;5;28;01mif\u001b[39;00m args[\u001b[38;5;241m0\u001b[39m] \u001b[38;5;241m==\u001b[39m \u001b[38;5;124m\"\u001b[39m\u001b[38;5;124mBaseline wattage\u001b[39m\u001b[38;5;124m\"\u001b[39m:\n",
      "\u001b[0;31mIndexError\u001b[0m: tuple index out of range"
     ]
    }
   ],
   "source": [
    "import energyusage\n",
    "import time\n",
    "\n",
    "def energy_usage():\n",
    "    begin = time.perf_counter()\n",
    "    energy = energyusage.evaluate(nonce, pdf=True)\n",
    "    end = time.perf_counter()\n",
    "    print('time taken')\n",
    "    print(end - begin)\n",
    "    return energy\n",
    "\n",
    "print(energy_usage())"
   ]
  },
  {
   "cell_type": "code",
   "execution_count": null,
   "id": "056469c2",
   "metadata": {},
   "outputs": [],
   "source": []
  }
 ],
 "metadata": {
  "kernelspec": {
   "display_name": "Python 3 (ipykernel)",
   "language": "python",
   "name": "python3"
  },
  "language_info": {
   "codemirror_mode": {
    "name": "ipython",
    "version": 3
   },
   "file_extension": ".py",
   "mimetype": "text/x-python",
   "name": "python",
   "nbconvert_exporter": "python",
   "pygments_lexer": "ipython3",
   "version": "3.8.6"
  }
 },
 "nbformat": 4,
 "nbformat_minor": 5
}

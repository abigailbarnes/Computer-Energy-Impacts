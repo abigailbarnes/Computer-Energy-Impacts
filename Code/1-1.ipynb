{
 "cells": [
  {
   "cell_type": "code",
   "execution_count": 2,
   "id": "f74528d3",
   "metadata": {},
   "outputs": [],
   "source": [
    "#task 1"
   ]
  },
  {
   "cell_type": "code",
   "execution_count": 3,
   "id": "1e3fc012",
   "metadata": {},
   "outputs": [
    {
     "name": "stdout",
     "output_type": "stream",
     "text": [
      "<sha256 HASH object @ 0x7fd0c4d044d0>\n",
      "431359146674410236714672241392314090778194310760649159697657763987456\n"
     ]
    }
   ],
   "source": [
    "import hashlib\n",
    "m = hashlib.sha256()\n",
    "print(m)\n",
    "target = pow(2, 228)\n",
    "previous = '00000003ef809ab31c2339e3938349437161a40eb9d19162b0185bc5be78d2f8'\n",
    "transaction = '14d65eb004b8fca9fa7873263ddfb0b0f3101be84ebb5f847ac6f9aaf2a17ebf'\n",
    "print(target)"
   ]
  },
  {
   "cell_type": "code",
   "execution_count": 4,
   "id": "1f06733c",
   "metadata": {},
   "outputs": [
    {
     "name": "stdout",
     "output_type": "stream",
     "text": [
      "temp hash\n",
      "0x000000003ef809ab31c2339e3938349437161a40eb9d19162b0185bc5be78d2f814d65eb004b8fca9fa7873263ddfb0b0f3101be84ebb5f847ac6f9aaf2a17ebf\n",
      "target\n",
      "431359146674410236714672241392314090778194310760649159697657763987456\n",
      "final\n",
      "0000000fc77e7cfc06d2c3aee2986d5546892f8dae09316883bb3950249526ad\n",
      "nonce\n",
      "70753223\n"
     ]
    }
   ],
   "source": [
    "def nonce():\n",
    "    i = 0\n",
    "    nonce = 0\n",
    "    #take nonce \n",
    "    #have to check every single nonce to know which one is right to go at the beginning of the hash\n",
    "    #only way to break out of while loop when the number you have is LESS THAN the target\n",
    "    pt = previous + transaction\n",
    "    temp_hash = str(hex(0)) + pt\n",
    "    #print(temp_hash)\n",
    "    #print(int(temp_hash, 16))\n",
    "    #print(int(target, 16))\n",
    "    print('temp hash')\n",
    "    print(temp_hash)\n",
    "    print('target')\n",
    "    print(target)\n",
    "    while True:\n",
    "        temp_hash = hex(i) + pt\n",
    "        in_bytes = str.encode(temp_hash)\n",
    "        final = hashlib.sha256(in_bytes).hexdigest()\n",
    "        if int(final, 16) < target:\n",
    "            break\n",
    "        \n",
    "        nonce = i\n",
    "        i += 1\n",
    "    print('final')\n",
    "    print(final)\n",
    "    print('nonce')\n",
    "    return nonce\n",
    "\n",
    "print(nonce())"
   ]
  },
  {
   "cell_type": "code",
   "execution_count": null,
   "id": "c57aa017",
   "metadata": {},
   "outputs": [],
   "source": []
  }
 ],
 "metadata": {
  "kernelspec": {
   "display_name": "Python 3 (ipykernel)",
   "language": "python",
   "name": "python3"
  },
  "language_info": {
   "codemirror_mode": {
    "name": "ipython",
    "version": 3
   },
   "file_extension": ".py",
   "mimetype": "text/x-python",
   "name": "python",
   "nbconvert_exporter": "python",
   "pygments_lexer": "ipython3",
   "version": "3.8.6"
  }
 },
 "nbformat": 4,
 "nbformat_minor": 5
}

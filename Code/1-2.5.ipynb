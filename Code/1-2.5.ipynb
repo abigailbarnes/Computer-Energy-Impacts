{
 "cells": [
  {
   "cell_type": "code",
   "execution_count": 5,
   "id": "ffc33700",
   "metadata": {},
   "outputs": [
    {
     "name": "stdout",
     "output_type": "stream",
     "text": [
      "<sha256 HASH object @ 0x7fe88f10a7f0>\n"
     ]
    }
   ],
   "source": [
    "import hashlib\n",
    "import random\n",
    "m = hashlib.sha256()\n",
    "print(m)\n",
    "target = pow(2, 228)\n",
    "previous = '00000003ef809ab31c2339e3938349437161a40eb9d19162b0185bc5be78d2f8'\n",
    "transaction = '14d65eb004b8fca9fa7873263ddfb0b0f3101be84ebb5f847ac6f9aaf2a17ebf'\n",
    "#print(target)"
   ]
  },
  {
   "cell_type": "code",
   "execution_count": null,
   "id": "5c9ad039",
   "metadata": {},
   "outputs": [],
   "source": [
    "def rand_nonce():\n",
    "    i = 0\n",
    "    nonce = 0\n",
    "    counter = 0\n",
    "    #take nonce \n",
    "    #have to check every single nonce to know which one is right to go at the beginning of the hash\n",
    "    #only way to break out of while loop when the number you have is LESS THAN the target\n",
    "    pt = previous + transaction\n",
    "    temp_hash = str(hex(0)) + pt\n",
    "    while True:\n",
    "        temp_hash = hex(i) + pt\n",
    "        in_bytes = str.encode(temp_hash)\n",
    "        final = hashlib.sha256(in_bytes).hexdigest()\n",
    "        if int(final, 16) < target:\n",
    "            nonce = i\n",
    "            break\n",
    "        i = random.randrange(0, pow(2, 256))\n",
    "        counter += 1\n",
    "    print('counter')\n",
    "    print(counter)\n",
    "    print('nonce')\n",
    "    return nonce\n",
    "\n",
    "print(rand_nonce())"
   ]
  },
  {
   "cell_type": "code",
   "execution_count": null,
   "id": "769ab95f",
   "metadata": {},
   "outputs": [],
   "source": []
  }
 ],
 "metadata": {
  "kernelspec": {
   "display_name": "Python 3 (ipykernel)",
   "language": "python",
   "name": "python3"
  },
  "language_info": {
   "codemirror_mode": {
    "name": "ipython",
    "version": 3
   },
   "file_extension": ".py",
   "mimetype": "text/x-python",
   "name": "python",
   "nbconvert_exporter": "python",
   "pygments_lexer": "ipython3",
   "version": "3.8.6"
  }
 },
 "nbformat": 4,
 "nbformat_minor": 5
}

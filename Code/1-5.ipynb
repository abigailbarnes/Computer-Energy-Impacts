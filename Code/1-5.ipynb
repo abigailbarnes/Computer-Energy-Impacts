{
 "cells": [
  {
   "cell_type": "code",
   "execution_count": 13,
   "id": "aec34fbd",
   "metadata": {},
   "outputs": [
    {
     "name": "stdout",
     "output_type": "stream",
     "text": [
      "temp hash\n",
      "0x000000003ef809ab31c2339e3938349437161a40eb9d19162b0185bc5be78d2f814d65eb004b8fca9fa7873263ddfb0b0f3101be84ebb5f847ac6f9aaf2a17ebf\n",
      "target\n",
      "1766847064778384329583297500742918515827483896875618958121606201292619776\n",
      "nonce\n",
      "234535\n",
      "end time\n",
      "4060.844228778\n",
      "begin time\n",
      "4060.429188693\n",
      "time\n",
      "0.4150400849998732\n"
     ]
    }
   ],
   "source": [
    "#1-5\n",
    "import hashlib\n",
    "import time\n",
    "\n",
    "m = hashlib.sha256()\n",
    "target_arr = [pow(2, 228), pow(2, 230), pow(2, 232), pow(2, 237), pow(2, 240)]\n",
    "previous = '00000003ef809ab31c2339e3938349437161a40eb9d19162b0185bc5be78d2f8'\n",
    "transaction = '14d65eb004b8fca9fa7873263ddfb0b0f3101be84ebb5f847ac6f9aaf2a17ebf'\n",
    "\n",
    "def nonce(target):\n",
    "    begin = time.perf_counter()\n",
    "    i = 0\n",
    "    nonce = 0\n",
    "    pt = previous + transaction\n",
    "    temp_hash = str(hex(0)) + pt\n",
    "    #print(temp_hash)\n",
    "    #print(int(temp_hash, 16))\n",
    "    #print(int(target, 16))\n",
    "    print('temp hash')\n",
    "    print(temp_hash)\n",
    "    print('target')\n",
    "    print(target)\n",
    "    while True:\n",
    "        temp_hash = hex(i) + pt\n",
    "        in_bytes = str.encode(temp_hash)\n",
    "        final = hashlib.sha256(in_bytes).hexdigest()\n",
    "        if int(final, 16) < target:\n",
    "            break\n",
    "        \n",
    "        nonce = i\n",
    "        i += 1\n",
    "    end = time.perf_counter()\n",
    "    print('nonce')\n",
    "    print(nonce)\n",
    "    print('end time')\n",
    "    print(end)\n",
    "    print('begin time')\n",
    "    print(begin)\n",
    "    times = end - begin\n",
    "    print('time')\n",
    "    print(times)\n",
    "\n",
    "nonce(target_arr[4])"
   ]
  },
  {
   "cell_type": "code",
   "execution_count": 3,
   "id": "2cf22db2",
   "metadata": {},
   "outputs": [
    {
     "ename": "IndexError",
     "evalue": "tuple index out of range",
     "output_type": "error",
     "traceback": [
      "\u001b[0;31m---------------------------------------------------------------------------\u001b[0m",
      "\u001b[0;31mIndexError\u001b[0m                                Traceback (most recent call last)",
      "Input \u001b[0;32mIn [3]\u001b[0m, in \u001b[0;36m<cell line: 8>\u001b[0;34m()\u001b[0m\n\u001b[1;32m      5\u001b[0m     energy \u001b[38;5;241m=\u001b[39m energyusage\u001b[38;5;241m.\u001b[39mevaluate(nonce_loop, target, pdf\u001b[38;5;241m=\u001b[39m\u001b[38;5;28;01mTrue\u001b[39;00m)\n\u001b[1;32m      6\u001b[0m     \u001b[38;5;28;01mreturn\u001b[39;00m energy\n\u001b[0;32m----> 8\u001b[0m \u001b[38;5;28mprint\u001b[39m(\u001b[43menergy_usage\u001b[49m\u001b[43m(\u001b[49m\u001b[43m)\u001b[49m)\n",
      "Input \u001b[0;32mIn [3]\u001b[0m, in \u001b[0;36menergy_usage\u001b[0;34m()\u001b[0m\n\u001b[1;32m      4\u001b[0m \u001b[38;5;28;01mdef\u001b[39;00m \u001b[38;5;21menergy_usage\u001b[39m():\n\u001b[0;32m----> 5\u001b[0m     energy \u001b[38;5;241m=\u001b[39m \u001b[43menergyusage\u001b[49m\u001b[38;5;241;43m.\u001b[39;49m\u001b[43mevaluate\u001b[49m\u001b[43m(\u001b[49m\u001b[43mnonce_loop\u001b[49m\u001b[43m,\u001b[49m\u001b[43m \u001b[49m\u001b[43mtarget\u001b[49m\u001b[43m,\u001b[49m\u001b[43m \u001b[49m\u001b[43mpdf\u001b[49m\u001b[38;5;241;43m=\u001b[39;49m\u001b[38;5;28;43;01mTrue\u001b[39;49;00m\u001b[43m)\u001b[49m\n\u001b[1;32m      6\u001b[0m     \u001b[38;5;28;01mreturn\u001b[39;00m energy\n",
      "File \u001b[0;32m/Library/Frameworks/Python.framework/Versions/3.8/lib/python3.8/site-packages/energyusage/evaluate.py:338\u001b[0m, in \u001b[0;36mevaluate\u001b[0;34m(user_func, pdf, powerLoss, energyOutput, locations, year, printToScreen, *args)\u001b[0m\n\u001b[1;32m    335\u001b[0m         \u001b[38;5;28;01mreturn\u001b[39;00m return_value\n\u001b[1;32m    337\u001b[0m \u001b[38;5;28;01melse\u001b[39;00m:\n\u001b[0;32m--> 338\u001b[0m     \u001b[43mutils\u001b[49m\u001b[38;5;241;43m.\u001b[39;49m\u001b[43mlog\u001b[49m\u001b[43m(\u001b[49m\u001b[38;5;124;43m\"\u001b[39;49m\u001b[38;5;124;43mThe energy-usage package only works on Linux kernels \u001b[39;49m\u001b[38;5;124;43m\"\u001b[39;49m\n\u001b[1;32m    339\u001b[0m \u001b[43m    \u001b[49m\u001b[38;5;124;43m\"\u001b[39;49m\u001b[38;5;124;43mwith Intel processors that support the RAPL interface and/or machines with\u001b[39;49m\u001b[38;5;124;43m\"\u001b[39;49m\n\u001b[1;32m    340\u001b[0m \u001b[43m    \u001b[49m\u001b[38;5;124;43m\"\u001b[39;49m\u001b[38;5;124;43m an Nvidia GPU. Please try again on a different machine.\u001b[39;49m\u001b[38;5;124;43m\"\u001b[39;49m\u001b[43m)\u001b[49m\n",
      "File \u001b[0;32m/Library/Frameworks/Python.framework/Versions/3.8/lib/python3.8/site-packages/energyusage/utils.py:203\u001b[0m, in \u001b[0;36mlog\u001b[0;34m(*args)\u001b[0m\n\u001b[1;32m    201\u001b[0m \u001b[38;5;28;01mdef\u001b[39;00m \u001b[38;5;21mlog\u001b[39m(\u001b[38;5;241m*\u001b[39margs):\n\u001b[1;32m    202\u001b[0m     \u001b[38;5;28;01mif\u001b[39;00m (re\u001b[38;5;241m.\u001b[39msearch(\u001b[38;5;124m\"\u001b[39m\u001b[38;5;124mPackage|CPU.*|GPU|DRAM\u001b[39m\u001b[38;5;124m\"\u001b[39m, args[\u001b[38;5;241m0\u001b[39m])):\n\u001b[0;32m--> 203\u001b[0m         measurement \u001b[38;5;241m=\u001b[39m \u001b[43margs\u001b[49m\u001b[43m[\u001b[49m\u001b[38;5;241;43m1\u001b[39;49m\u001b[43m]\u001b[49m\n\u001b[1;32m    204\u001b[0m         sys\u001b[38;5;241m.\u001b[39mstdout\u001b[38;5;241m.\u001b[39mwrite(\u001b[38;5;124m\"\u001b[39m\u001b[38;5;130;01m\\r\u001b[39;00m\u001b[38;5;132;01m{:<24}\u001b[39;00m\u001b[38;5;124m \u001b[39m\u001b[38;5;132;01m{:>49.2f}\u001b[39;00m\u001b[38;5;124m \u001b[39m\u001b[38;5;132;01m{:5<}\u001b[39;00m\u001b[38;5;124m\"\u001b[39m\u001b[38;5;241m.\u001b[39mformat(args[\u001b[38;5;241m0\u001b[39m]\u001b[38;5;241m+\u001b[39m\u001b[38;5;124m\"\u001b[39m\u001b[38;5;124m:\u001b[39m\u001b[38;5;124m\"\u001b[39m, measurement, \u001b[38;5;124m\"\u001b[39m\u001b[38;5;124mwatts\u001b[39m\u001b[38;5;124m\"\u001b[39m))\n\u001b[1;32m    206\u001b[0m     \u001b[38;5;28;01mif\u001b[39;00m args[\u001b[38;5;241m0\u001b[39m] \u001b[38;5;241m==\u001b[39m \u001b[38;5;124m\"\u001b[39m\u001b[38;5;124mBaseline wattage\u001b[39m\u001b[38;5;124m\"\u001b[39m:\n",
      "\u001b[0;31mIndexError\u001b[0m: tuple index out of range"
     ]
    }
   ],
   "source": [
    "import energyusage\n",
    "import time\n",
    "\n",
    "def energy_usage_loop(arr):\n",
    "    for target in arr:\n",
    "        energy = energyusage.evaluate(nonce, target, pdf=True)\n",
    "        print(energy)\n",
    "\n",
    "print(energy_usage_loop(target_arr))"
   ]
  },
  {
   "cell_type": "code",
   "execution_count": 21,
   "id": "9d6d1683",
   "metadata": {},
   "outputs": [
    {
     "name": "stdout",
     "output_type": "stream",
     "text": [
      "[2.4846924641157333e-07, 1.4075864352789598e-06, 1.4115829896096782e-06, 2.1821153478344027e-05, 7.525529238706376e-05]\n",
      "[2.7898889607452274e-09, 8.884031952327918e-08, 8.900797809501426e-08, 2.12876105155331e-05, 0.00024597666415024496]\n"
     ]
    }
   ],
   "source": [
    "#target_arr = [pow(2, 228), pow(2, 230), pow(2, 232), pow(2, 237), pow(2, 240)]\n",
    "watts = [17.58, 17.61, 17.66, 17.57, 17.65] #average process watts\n",
    "hashes = [70753223, 12510777, 12510777, 805182, 234535] #nonce values\n",
    "seconds = [89.060622092, 15.844004646, 15.859061399, 1.025063544, 0.305944845] #process time in seconds\n",
    "\n",
    "def watts_per_hash(watts, hashes):\n",
    "    wph = []\n",
    "    i = 0\n",
    "    while i < len(watts):\n",
    "        wph.append(watts[i] / hashes[i])\n",
    "        i += 1\n",
    "    return wph\n",
    "\n",
    "watts_per_hash = watts_per_hash(watts, hashes)\n",
    "print(watts_per_hash)\n",
    "\n",
    "    \n",
    "    \n",
    "def joules(watts, secs):\n",
    "    joules = []\n",
    "    \n",
    "    i = 0\n",
    "    while i < len(watts):\n",
    "        joules.append(watts[i] / secs[i])\n",
    "        i += 1\n",
    "    return joules\n",
    "\n",
    "joules = joules(watts_per_hash, seconds) #joules per hash\n",
    "print(joules)"
   ]
  },
  {
   "cell_type": "code",
   "execution_count": 30,
   "id": "ff339345",
   "metadata": {},
   "outputs": [
    {
     "name": "stdout",
     "output_type": "stream",
     "text": [
      "[2.4846924641157333e-07, 1.4075864352789598e-06, 1.4115829896096782e-06, 2.1821153478344027e-05, 7.525529238706376e-05]\n",
      "[2.7898889607452274e-09, 8.884031952327918e-08, 8.900797809501426e-08, 2.12876105155331e-05, 0.00024597666415024496]\n"
     ]
    }
   ],
   "source": [
    "#target_arr = [pow(2, 228), pow(2, 230), pow(2, 232), pow(2, 237), pow(2, 240)]\n",
    "watts = [17.58, 17.61, 17.66, 17.57, 17.65] #average process watts\n",
    "hashes = [70753223, 12510777, 12510777, 805182, 234535] #nonce values\n",
    "seconds = [89.060622092, 15.844004646, 15.859061399, 1.025063544, 0.305944845] #process time in seconds\n",
    "\n",
    "value=str('6,0865000000e-01')\n",
    "value2=value.replace(',', '.')\n",
    "float(value2)\n",
    "\n",
    "\n",
    "\n",
    "def watts_per_hash(watts, hashes):\n",
    "    wph = []\n",
    "    i = 0\n",
    "    while i < len(watts):\n",
    "        wph.append(watts[i] / hashes[i])\n",
    "        i += 1\n",
    "    return wph\n",
    "\n",
    "watts_per_hash = watts_per_hash(watts, hashes)\n",
    "print(watts_per_hash)\n",
    "\n",
    "    \n",
    "    \n",
    "def joules(watts, secs):\n",
    "    joules = []\n",
    "    \n",
    "    i = 0\n",
    "    while i < len(watts):\n",
    "        joules.append(watts[i] / secs[i])\n",
    "        i += 1\n",
    "    return joules\n",
    "\n",
    "joules = joules(watts_per_hash, seconds) #joules per hash\n",
    "print(joules)"
   ]
  },
  {
   "cell_type": "code",
   "execution_count": 38,
   "id": "1903b107",
   "metadata": {},
   "outputs": [
    {
     "name": "stdout",
     "output_type": "stream",
     "text": [
      "[4.31359147e+68 1.72543659e+69 6.90174635e+69 2.20855883e+71\n",
      " 1.76684706e+72]\n"
     ]
    },
    {
     "data": {
      "image/png": "[encoded data removed]",
      "text/plain": [
       "<Figure size 432x288 with 1 Axes>"
      ]
     },
     "metadata": {
      "needs_background": "light"
     },
     "output_type": "display_data"
    }
   ],
   "source": [
    "import matplotlib.pyplot as plt\n",
    "import numpy as np\n",
    "\n",
    "x = np.array(target_arr).astype(float)\n",
    "y = np.array(joules).astype(float)\n",
    "\n",
    "#find line of best fit\n",
    "a, b = np.polyfit(x, y, 1)\n",
    "\n",
    "#add points to plot\n",
    "plt.scatter(x, y)\n",
    "\n",
    "plt.plot(x, a*x+b)  \n",
    "\n",
    "#add line of best fit to plot\n",
    "plt.show()"
   ]
  },
  {
   "cell_type": "code",
   "execution_count": 40,
   "id": "24d8ec44",
   "metadata": {},
   "outputs": [
    {
     "data": {
      "image/png": "[encoded data removed]",
      "text/plain": [
       "<Figure size 432x288 with 1 Axes>"
      ]
     },
     "metadata": {
      "needs_background": "light"
     },
     "output_type": "display_data"
    }
   ],
   "source": [
    "estimatex = [0.50e+72, 0.75e+72, 1.00e+72, 1.25e+72, 1.50e+72]\n",
    "estimatey = [0.00006, 0.00010, 0.00014, 0.00017, 0.00021]\n",
    "\n",
    "\n",
    "plt.scatter(estimatex, estimatey, c='coral')\n",
    "#add points to plot\n",
    "plt.scatter(x, y)\n",
    "\n",
    "plt.plot(x, a*x+b)  \n",
    "plt.title('Target Values Versus Joules')\n",
    "plt.xlabel('Target Values to the e+72')\n",
    "plt.ylabel('Joules to the e-09')\n",
    "\n",
    "#add line of best fit to plot\n",
    "plt.show()"
   ]
  },
  {
   "cell_type": "code",
   "execution_count": 46,
   "id": "af0595ea",
   "metadata": {},
   "outputs": [
    {
     "name": "stdout",
     "output_type": "stream",
     "text": [
      "hashes_per_seconds\n",
      "767902.6815254783\n",
      "\n",
      "transactions\n",
      "2.2000000000000003e+20\n"
     ]
    }
   ],
   "source": [
    "hashes = 70753223\n",
    "seconds = 92.13826791103929\n",
    "hashes_per_seconds = 70753223 / 92.13826791103929\n",
    "num_transactions = 2.2 * pow(10, 20) #hashes per second\n",
    "\n",
    "print(\"hashes_per_seconds\")\n",
    "print(hashes_per_seconds)\n",
    "\n",
    "print()\n",
    "\n",
    "print(\"transactions\")\n",
    "print(num_transactions)"
   ]
  },
  {
   "cell_type": "code",
   "execution_count": 47,
   "id": "c152b4ea",
   "metadata": {},
   "outputs": [
    {
     "name": "stdout",
     "output_type": "stream",
     "text": [
      "nodes\n",
      "286494637006552.3\n"
     ]
    }
   ],
   "source": [
    "nodes = num_transactions / hashes_per_seconds\n",
    "print('nodes')\n",
    "print(nodes)"
   ]
  },
  {
   "cell_type": "code",
   "execution_count": 48,
   "id": "5c60bfac",
   "metadata": {},
   "outputs": [
    {
     "name": "stdout",
     "output_type": "stream",
     "text": [
      "total energy in watts\n",
      "71630519.65221582\n"
     ]
    }
   ],
   "source": [
    "watts_per_hash = 0.000000250023946\n",
    "total_energy = watts_per_hash * nodes\n",
    "\n",
    "print('total energy in watts')\n",
    "print(total_energy)"
   ]
  },
  {
   "cell_type": "code",
   "execution_count": 51,
   "id": "3ad15cb2",
   "metadata": {},
   "outputs": [
    {
     "name": "stdout",
     "output_type": "stream",
     "text": [
      "nodes antminer\n",
      "2315789.473684211\n",
      "total energy in watts antminer\n",
      "7526315789.473685\n"
     ]
    }
   ],
   "source": [
    "antminer_hashes_per_second = 95 * pow(10, 12)\n",
    "watts = 3250\n",
    "num_transactions = 2.2 * pow(10, 20) #hashes per second\n",
    "\n",
    "nodes = num_transactions / antminer_hashes_per_second\n",
    "print('nodes antminer')\n",
    "print(nodes)\n",
    "\n",
    "total_energy_antminer = watts * nodes\n",
    "\n",
    "print('total energy in watts antminer')\n",
    "print(total_energy_antminer)"
   ]
  },
  {
   "cell_type": "code",
   "execution_count": null,
   "id": "9347eec5",
   "metadata": {},
   "outputs": [],
   "source": []
  }
 ],
 "metadata": {
  "kernelspec": {
   "display_name": "Python 3 (ipykernel)",
   "language": "python",
   "name": "python3"
  },
  "language_info": {
   "codemirror_mode": {
    "name": "ipython",
    "version": 3
   },
   "file_extension": ".py",
   "mimetype": "text/x-python",
   "name": "python",
   "nbconvert_exporter": "python",
   "pygments_lexer": "ipython3",
   "version": "3.8.6"
  }
 },
 "nbformat": 4,
 "nbformat_minor": 5
}
